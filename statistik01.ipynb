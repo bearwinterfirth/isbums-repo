{
 "cells": [
  {
   "cell_type": "code",
   "execution_count": null,
   "metadata": {},
   "outputs": [
    {
     "name": "stdout",
     "output_type": "stream",
     "text": [
      "Exercise 4\n",
      "a) 60480\n",
      "b) 30240\n"
     ]
    }
   ],
   "source": [
    "# Exercise 4\n",
    "\n",
    "import math\n",
    "from math import comb as binom\n",
    "\n",
    "number_of_teams=binom(10,3)*binom(8,2)*binom(4,2)*binom(3,1)\n",
    "fixed_engineer=binom(10,3)*binom(8,2)*binom(3,1)*binom(3,1)\n",
    "\n",
    "print(f\"Exercise 4\\na) {number_of_teams}\\nb) {fixed_engineer}\")\n"
   ]
  },
  {
   "cell_type": "code",
   "execution_count": 2,
   "metadata": {},
   "outputs": [
    {
     "name": "stdout",
     "output_type": "stream",
     "text": [
      "There are 118813760 possible passwords and 50 weak passwords.\n"
     ]
    }
   ],
   "source": [
    "# Exercise 5\n",
    "\n",
    "number_of_passwords = math.pow(26,5) * 10\n",
    "\n",
    "weak_passwords = binom(5,2) * 5\n",
    "\n",
    "print(f\"There are {int(number_of_passwords)} possible passwords and {int(weak_passwords)} weak passwords.\")"
   ]
  },
  {
   "cell_type": "code",
   "execution_count": null,
   "metadata": {},
   "outputs": [],
   "source": [
    "# Red unit success = 60%\n",
    "# Blue unit success = 70%\n",
    "# Only red = 18%\n",
    "# a) Probability of P(A && B)\n",
    "# b) Probability of P(A xor B) (?)\n",
    "\n",
    "# P(R) = 0.6\n",
    "# P(B) = 0.7\n",
    "\n",
    "# P(!B) = 0.3\n",
    "\n",
    "# P(A && !B) = 0.18\n"
   ]
  }
 ],
 "metadata": {
  "kernelspec": {
   "display_name": ".venv",
   "language": "python",
   "name": "python3"
  },
  "language_info": {
   "codemirror_mode": {
    "name": "ipython",
    "version": 3
   },
   "file_extension": ".py",
   "mimetype": "text/x-python",
   "name": "python",
   "nbconvert_exporter": "python",
   "pygments_lexer": "ipython3",
   "version": "3.12.5"
  }
 },
 "nbformat": 4,
 "nbformat_minor": 2
}
