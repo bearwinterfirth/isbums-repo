{
 "cells": [
  {
   "cell_type": "code",
   "execution_count": 30,
   "metadata": {},
   "outputs": [
    {
     "data": {
      "text/html": [
       "<div>\n",
       "<style scoped>\n",
       "    .dataframe tbody tr th:only-of-type {\n",
       "        vertical-align: middle;\n",
       "    }\n",
       "\n",
       "    .dataframe tbody tr th {\n",
       "        vertical-align: top;\n",
       "    }\n",
       "\n",
       "    .dataframe thead th {\n",
       "        text-align: right;\n",
       "    }\n",
       "</style>\n",
       "<table border=\"1\" class=\"dataframe\">\n",
       "  <thead>\n",
       "    <tr style=\"text-align: right;\">\n",
       "      <th></th>\n",
       "      <th>TV</th>\n",
       "      <th>radio</th>\n",
       "      <th>newspaper</th>\n",
       "      <th>sales</th>\n",
       "    </tr>\n",
       "  </thead>\n",
       "  <tbody>\n",
       "    <tr>\n",
       "      <th>1</th>\n",
       "      <td>230.1</td>\n",
       "      <td>37.8</td>\n",
       "      <td>69.2</td>\n",
       "      <td>22.1</td>\n",
       "    </tr>\n",
       "    <tr>\n",
       "      <th>2</th>\n",
       "      <td>44.5</td>\n",
       "      <td>39.3</td>\n",
       "      <td>45.1</td>\n",
       "      <td>10.4</td>\n",
       "    </tr>\n",
       "    <tr>\n",
       "      <th>3</th>\n",
       "      <td>17.2</td>\n",
       "      <td>45.9</td>\n",
       "      <td>69.3</td>\n",
       "      <td>9.3</td>\n",
       "    </tr>\n",
       "    <tr>\n",
       "      <th>4</th>\n",
       "      <td>151.5</td>\n",
       "      <td>41.3</td>\n",
       "      <td>58.5</td>\n",
       "      <td>18.5</td>\n",
       "    </tr>\n",
       "    <tr>\n",
       "      <th>5</th>\n",
       "      <td>180.8</td>\n",
       "      <td>10.8</td>\n",
       "      <td>58.4</td>\n",
       "      <td>12.9</td>\n",
       "    </tr>\n",
       "  </tbody>\n",
       "</table>\n",
       "</div>"
      ],
      "text/plain": [
       "      TV  radio  newspaper  sales\n",
       "1  230.1   37.8       69.2   22.1\n",
       "2   44.5   39.3       45.1   10.4\n",
       "3   17.2   45.9       69.3    9.3\n",
       "4  151.5   41.3       58.5   18.5\n",
       "5  180.8   10.8       58.4   12.9"
      ]
     },
     "execution_count": 30,
     "metadata": {},
     "output_type": "execute_result"
    }
   ],
   "source": [
    "import pandas as pd\n",
    "\n",
    "data_path=\"\"\n",
    "\n",
    "adv=pd.read_csv(data_path+'Advertising.csv', index_col=0)\n",
    "adv.head()\n"
   ]
  },
  {
   "cell_type": "code",
   "execution_count": 31,
   "metadata": {},
   "outputs": [
    {
     "data": {
      "text/plain": [
       "1      22.1\n",
       "2      10.4\n",
       "3       9.3\n",
       "4      18.5\n",
       "5      12.9\n",
       "       ... \n",
       "196     7.6\n",
       "197     9.7\n",
       "198    12.8\n",
       "199    25.5\n",
       "200    13.4\n",
       "Name: sales, Length: 200, dtype: float64"
      ]
     },
     "execution_count": 31,
     "metadata": {},
     "output_type": "execute_result"
    }
   ],
   "source": [
    "import numpy as np\n",
    "# Y is a response variable\n",
    "Y = sales = adv['sales']\n",
    "\n",
    "# Antag att regressionen av \"TV\" på \"sales\" är ungefär linjär,\n",
    "# Y = β0+ β1X\n",
    "# sales = β0 + β1 * 'TV'\n",
    "# Modellspecifikationsmatrisen (designmatrisen) behöver en 1:a i första kolumnen\n",
    "\n",
    "X = TV = np.column_stack([np.ones(Y.shape[0]), adv['TV']])\n",
    "Y\n",
    "\n"
   ]
  },
  {
   "cell_type": "code",
   "execution_count": 33,
   "metadata": {},
   "outputs": [
    {
     "data": {
      "text/plain": [
       "array([7.03259355, 0.04753664])"
      ]
     },
     "execution_count": 33,
     "metadata": {},
     "output_type": "execute_result"
    }
   ],
   "source": [
    "# pseudo-invers för prestanda\n",
    "# @ = matrismultiplikation\n",
    "\n",
    "b = np.linalg.pinv(X.T @ X) @ X.T @ Y\n",
    "b\n"
   ]
  },
  {
   "cell_type": "code",
   "execution_count": 6,
   "metadata": {},
   "outputs": [
    {
     "data": {
      "image/png": "[encoded data removed]",
      "text/plain": [
       "<Figure size 640x480 with 1 Axes>"
      ]
     },
     "metadata": {},
     "output_type": "display_data"
    }
   ],
   "source": [
    "import matplotlib.pyplot as plt\n",
    "plt.scatter(X[:, 1], Y)\n",
    "x = np.linspace(0,300)\n",
    "\n",
    "y_hat=b[0]+ b[1]*x \n",
    "plt.plot(x,y_hat, c=\"red\");\n"
   ]
  },
  {
   "cell_type": "code",
   "execution_count": 34,
   "metadata": {},
   "outputs": [
    {
     "data": {
      "text/plain": [
       "np.float64(2102.530583131351)"
      ]
     },
     "execution_count": 34,
     "metadata": {},
     "output_type": "execute_result"
    }
   ],
   "source": [
    "# RSS Residual Sum of Squares\n",
    "# SSE Sum of Square Errors\n",
    "# Samma sak!\n",
    "\n",
    "n = Y.shape[0]  # stickprovets storlek\n",
    "v = X.shape[1] - 1  # antalet parametrar, bara TV i detta fall, så 1\n",
    "\n",
    "SSE = np.sum(np.square(Y - (X @ b)))\n",
    "SSE\n"
   ]
  },
  {
   "cell_type": "markdown",
   "metadata": {},
   "source": [
    "$\\texttt{Cov}(X,Y)= E[(x-\\mu_X)(y-\\mu_Y)]$\n",
    "\n",
    "$S_{xy} \\rightarrow (x-mu_X)(y-mu_Y)$\n",
    "\n",
    "Om X och Y är oberoende så är Cov(X, Y)= 0 men vi kan inte anta det omvända. Dvs Cov=0 betyder inte nödvändigtvis att X och Y är oberoende, men de är åtminstone inte linjärt beroende."
   ]
  },
  {
   "cell_type": "markdown",
   "metadata": {},
   "source": [
    "En starkare egenskap är korrelation (Pearson coefficient of correlation), som är ett värde mellan -1 och 1 (inklusive ändpunkterna).\n",
    "\n",
    "Låt $X$ och $Y$ vara slumpvariabler med medel $\\mu_X$ resp. $\\mu_Y$ samt varianser $\\sigma_X^2$ och $\\sigma_Y^2$. Korrelationen mellan $X$ och $Y$ ges då av:\n",
    "\n",
    "\\begin{equation*}\n",
    "\\rho_{XY}= \\frac{\\texttt{Cov(X,Y)}}{\\sqrt{(Var X)(Var Y)}} \n",
    "\\end{equation*}\n",
    "\n",
    "Om pearsonkoefficienten är 1 eller -1 ($|\\rho_{XY}|=1$), så har vi visat att det finns en ekvation:\n",
    "\n",
    "$Y = \\beta_0 + \\beta_1X$"
   ]
  },
  {
   "cell_type": "code",
   "execution_count": 14,
   "metadata": {},
   "outputs": [
    {
     "name": "stdout",
     "output_type": "stream",
     "text": [
      "Confidence interval of predictor β1: 0.0475 +- 0.0055\n"
     ]
    }
   ],
   "source": [
    "var=SSE/(n-v-1)\n",
    "S = np.sqrt(var) # residual standard error, alltså en uppskattning av standrardfelet/stickprovsavvikelsen\n",
    "\n",
    "SSR = np.sum(b*(X.T @ Y)) - (np.square(np.sum(Y))/n)        # Sum of squares regression     - riktig, ej skattning\n",
    "\n",
    "Syy = np.sum(np.square(Y)) - (np.square(np.sum(Y))/n)\n",
    "Sxx = np.sum(np.square(X)) - (np.square(np.sum(X))/n)\n",
    "\n",
    "se = var / n        # Standard error (of the mean)\n",
    "\n",
    "# square of standard error of β1 = var/Sxx\n",
    "se_b=var/Sxx\n",
    "\n",
    "ci = (b[1], 2*np.sqrt(se_b))        # confidence interval\n",
    "print(f\"Confidence interval of predictor β1: {ci[0]:.4f} +- {ci[1]:.4f}\")\n"
   ]
  },
  {
   "cell_type": "markdown",
   "metadata": {},
   "source": [
    "Detta är väldigt ungefärligt ett 90% interval (<2 sigma). Om vi kör regressionen många gånger på delmängder av datan (som ska ha samma medel, dvs vara balanserade), så väntar vi oss att 90% av värdena hamnar mellan 0,042 och 0,053"
   ]
  },
  {
   "cell_type": "code",
   "execution_count": 18,
   "metadata": {},
   "outputs": [
    {
     "data": {
      "text/plain": [
       "np.float64(7.032593549127828)"
      ]
     },
     "execution_count": 18,
     "metadata": {},
     "output_type": "execute_result"
    }
   ],
   "source": [
    "x_mean=np.mean(X[:,1])\n",
    "se_intercept = var * (1/n * (np.square(x_mean)/(np.square(np.sum(X-x_mean)))))      #FEL!\n",
    "se_intercept\n",
    "\n",
    "# borde bli [6,130, 7,935]\n",
    "b[0]"
   ]
  },
  {
   "cell_type": "markdown",
   "metadata": {},
   "source": [
    "### Hypotestestning\n",
    "Noll-hypotes:\n",
    "$H_0$: There is no relationship between X and Y\n",
    "\n",
    "Alternativ hypotes\n",
    "$H_a$: There is a relationship between X and Y\n",
    "\n",
    "$H_0$: $\\beta_1 = 0$\n",
    "$H_a$: $\\beta_1 \\neq 0$\n",
    "\n",
    "T-statistika för att testa relevans\n",
    "\n",
    "\\begin{equation*}\n",
    "t = \\frac{\\hat{\\beta}_1 - \\mathbb{0}}}etc\n"
   ]
  },
  {
   "cell_type": "code",
   "execution_count": 19,
   "metadata": {},
   "outputs": [
    {
     "data": {
      "text/plain": [
       "np.float64(6303.106346188546)"
      ]
     },
     "execution_count": 19,
     "metadata": {},
     "output_type": "execute_result"
    }
   ],
   "source": [
    "t = b[1]/se_b\n",
    "t"
   ]
  },
  {
   "cell_type": "markdown",
   "metadata": {},
   "source": [
    "OK, så regressionen är relevant, men hur bra är den?\n",
    "\n",
    "$\\hat{\\rho} = r = \\frac{S_{xy}}{\\sqrt{S_{xx}S_{{yy}}}}$"
   ]
  }
 ],
 "metadata": {
  "kernelspec": {
   "display_name": ".venv",
   "language": "python",
   "name": "python3"
  },
  "language_info": {
   "codemirror_mode": {
    "name": "ipython",
    "version": 3
   },
   "file_extension": ".py",
   "mimetype": "text/x-python",
   "name": "python",
   "nbconvert_exporter": "python",
   "pygments_lexer": "ipython3",
   "version": "3.12.5"
  }
 },
 "nbformat": 4,
 "nbformat_minor": 2
}
