{
 "cells": [
  {
   "cell_type": "markdown",
   "metadata": {},
   "source": [
    "Nu testar vi att lägga till x1 * x2 istället"
   ]
  },
  {
   "cell_type": "code",
   "execution_count": 2,
   "metadata": {},
   "outputs": [
    {
     "data": {
      "text/html": [
       "<div>\n",
       "<style scoped>\n",
       "    .dataframe tbody tr th:only-of-type {\n",
       "        vertical-align: middle;\n",
       "    }\n",
       "\n",
       "    .dataframe tbody tr th {\n",
       "        vertical-align: top;\n",
       "    }\n",
       "\n",
       "    .dataframe thead th {\n",
       "        text-align: right;\n",
       "    }\n",
       "</style>\n",
       "<table border=\"1\" class=\"dataframe\">\n",
       "  <thead>\n",
       "    <tr style=\"text-align: right;\">\n",
       "      <th></th>\n",
       "      <th>TV</th>\n",
       "      <th>radio</th>\n",
       "      <th>newspaper</th>\n",
       "      <th>sales</th>\n",
       "    </tr>\n",
       "  </thead>\n",
       "  <tbody>\n",
       "    <tr>\n",
       "      <th>1</th>\n",
       "      <td>230.1</td>\n",
       "      <td>37.8</td>\n",
       "      <td>69.2</td>\n",
       "      <td>22.1</td>\n",
       "    </tr>\n",
       "    <tr>\n",
       "      <th>2</th>\n",
       "      <td>44.5</td>\n",
       "      <td>39.3</td>\n",
       "      <td>45.1</td>\n",
       "      <td>10.4</td>\n",
       "    </tr>\n",
       "    <tr>\n",
       "      <th>3</th>\n",
       "      <td>17.2</td>\n",
       "      <td>45.9</td>\n",
       "      <td>69.3</td>\n",
       "      <td>9.3</td>\n",
       "    </tr>\n",
       "    <tr>\n",
       "      <th>4</th>\n",
       "      <td>151.5</td>\n",
       "      <td>41.3</td>\n",
       "      <td>58.5</td>\n",
       "      <td>18.5</td>\n",
       "    </tr>\n",
       "    <tr>\n",
       "      <th>5</th>\n",
       "      <td>180.8</td>\n",
       "      <td>10.8</td>\n",
       "      <td>58.4</td>\n",
       "      <td>12.9</td>\n",
       "    </tr>\n",
       "  </tbody>\n",
       "</table>\n",
       "</div>"
      ],
      "text/plain": [
       "      TV  radio  newspaper  sales\n",
       "1  230.1   37.8       69.2   22.1\n",
       "2   44.5   39.3       45.1   10.4\n",
       "3   17.2   45.9       69.3    9.3\n",
       "4  151.5   41.3       58.5   18.5\n",
       "5  180.8   10.8       58.4   12.9"
      ]
     },
     "execution_count": 2,
     "metadata": {},
     "output_type": "execute_result"
    }
   ],
   "source": [
    "import pandas as pd\n",
    "\n",
    "data_path = \"\"\n",
    "\n",
    "adv = pd.read_csv(data_path+\"Advertising.csv\", index_col=0)\n",
    "adv.head()\n"
   ]
  },
  {
   "cell_type": "code",
   "execution_count": 3,
   "metadata": {},
   "outputs": [
    {
     "data": {
      "text/plain": [
       "array([[1.000000e+00, 2.301000e+02, 3.780000e+01, 8.697780e+03],\n",
       "       [1.000000e+00, 4.450000e+01, 3.930000e+01, 1.748850e+03],\n",
       "       [1.000000e+00, 1.720000e+01, 4.590000e+01, 7.894800e+02],\n",
       "       [1.000000e+00, 1.515000e+02, 4.130000e+01, 6.256950e+03],\n",
       "       [1.000000e+00, 1.808000e+02, 1.080000e+01, 1.952640e+03],\n",
       "       [1.000000e+00, 8.700000e+00, 4.890000e+01, 4.254300e+02],\n",
       "       [1.000000e+00, 5.750000e+01, 3.280000e+01, 1.886000e+03],\n",
       "       [1.000000e+00, 1.202000e+02, 1.960000e+01, 2.355920e+03],\n",
       "       [1.000000e+00, 8.600000e+00, 2.100000e+00, 1.806000e+01],\n",
       "       [1.000000e+00, 1.998000e+02, 2.600000e+00, 5.194800e+02],\n",
       "       [1.000000e+00, 6.610000e+01, 5.800000e+00, 3.833800e+02],\n",
       "       [1.000000e+00, 2.147000e+02, 2.400000e+01, 5.152800e+03],\n",
       "       [1.000000e+00, 2.380000e+01, 3.510000e+01, 8.353800e+02],\n",
       "       [1.000000e+00, 9.750000e+01, 7.600000e+00, 7.410000e+02],\n",
       "       [1.000000e+00, 2.041000e+02, 3.290000e+01, 6.714890e+03],\n",
       "       [1.000000e+00, 1.954000e+02, 4.770000e+01, 9.320580e+03],\n",
       "       [1.000000e+00, 6.780000e+01, 3.660000e+01, 2.481480e+03],\n",
       "       [1.000000e+00, 2.814000e+02, 3.960000e+01, 1.114344e+04],\n",
       "       [1.000000e+00, 6.920000e+01, 2.050000e+01, 1.418600e+03],\n",
       "       [1.000000e+00, 1.473000e+02, 2.390000e+01, 3.520470e+03],\n",
       "       [1.000000e+00, 2.184000e+02, 2.770000e+01, 6.049680e+03],\n",
       "       [1.000000e+00, 2.374000e+02, 5.100000e+00, 1.210740e+03],\n",
       "       [1.000000e+00, 1.320000e+01, 1.590000e+01, 2.098800e+02],\n",
       "       [1.000000e+00, 2.283000e+02, 1.690000e+01, 3.858270e+03],\n",
       "       [1.000000e+00, 6.230000e+01, 1.260000e+01, 7.849800e+02],\n",
       "       [1.000000e+00, 2.629000e+02, 3.500000e+00, 9.201500e+02],\n",
       "       [1.000000e+00, 1.429000e+02, 2.930000e+01, 4.186970e+03],\n",
       "       [1.000000e+00, 2.401000e+02, 1.670000e+01, 4.009670e+03],\n",
       "       [1.000000e+00, 2.488000e+02, 2.710000e+01, 6.742480e+03],\n",
       "       [1.000000e+00, 7.060000e+01, 1.600000e+01, 1.129600e+03],\n",
       "       [1.000000e+00, 2.929000e+02, 2.830000e+01, 8.289070e+03],\n",
       "       [1.000000e+00, 1.129000e+02, 1.740000e+01, 1.964460e+03],\n",
       "       [1.000000e+00, 9.720000e+01, 1.500000e+00, 1.458000e+02],\n",
       "       [1.000000e+00, 2.656000e+02, 2.000000e+01, 5.312000e+03],\n",
       "       [1.000000e+00, 9.570000e+01, 1.400000e+00, 1.339800e+02],\n",
       "       [1.000000e+00, 2.907000e+02, 4.100000e+00, 1.191870e+03],\n",
       "       [1.000000e+00, 2.669000e+02, 4.380000e+01, 1.169022e+04],\n",
       "       [1.000000e+00, 7.470000e+01, 4.940000e+01, 3.690180e+03],\n",
       "       [1.000000e+00, 4.310000e+01, 2.670000e+01, 1.150770e+03],\n",
       "       [1.000000e+00, 2.280000e+02, 3.770000e+01, 8.595600e+03],\n",
       "       [1.000000e+00, 2.025000e+02, 2.230000e+01, 4.515750e+03],\n",
       "       [1.000000e+00, 1.770000e+02, 3.340000e+01, 5.911800e+03],\n",
       "       [1.000000e+00, 2.936000e+02, 2.770000e+01, 8.132720e+03],\n",
       "       [1.000000e+00, 2.069000e+02, 8.400000e+00, 1.737960e+03],\n",
       "       [1.000000e+00, 2.510000e+01, 2.570000e+01, 6.450700e+02],\n",
       "       [1.000000e+00, 1.751000e+02, 2.250000e+01, 3.939750e+03],\n",
       "       [1.000000e+00, 8.970000e+01, 9.900000e+00, 8.880300e+02],\n",
       "       [1.000000e+00, 2.399000e+02, 4.150000e+01, 9.955850e+03],\n",
       "       [1.000000e+00, 2.272000e+02, 1.580000e+01, 3.589760e+03],\n",
       "       [1.000000e+00, 6.690000e+01, 1.170000e+01, 7.827300e+02],\n",
       "       [1.000000e+00, 1.998000e+02, 3.100000e+00, 6.193800e+02],\n",
       "       [1.000000e+00, 1.004000e+02, 9.600000e+00, 9.638400e+02],\n",
       "       [1.000000e+00, 2.164000e+02, 4.170000e+01, 9.023880e+03],\n",
       "       [1.000000e+00, 1.826000e+02, 4.620000e+01, 8.436120e+03],\n",
       "       [1.000000e+00, 2.627000e+02, 2.880000e+01, 7.565760e+03],\n",
       "       [1.000000e+00, 1.989000e+02, 4.940000e+01, 9.825660e+03],\n",
       "       [1.000000e+00, 7.300000e+00, 2.810000e+01, 2.051300e+02],\n",
       "       [1.000000e+00, 1.362000e+02, 1.920000e+01, 2.615040e+03],\n",
       "       [1.000000e+00, 2.108000e+02, 4.960000e+01, 1.045568e+04],\n",
       "       [1.000000e+00, 2.107000e+02, 2.950000e+01, 6.215650e+03],\n",
       "       [1.000000e+00, 5.350000e+01, 2.000000e+00, 1.070000e+02],\n",
       "       [1.000000e+00, 2.613000e+02, 4.270000e+01, 1.115751e+04],\n",
       "       [1.000000e+00, 2.393000e+02, 1.550000e+01, 3.709150e+03],\n",
       "       [1.000000e+00, 1.027000e+02, 2.960000e+01, 3.039920e+03],\n",
       "       [1.000000e+00, 1.311000e+02, 4.280000e+01, 5.611080e+03],\n",
       "       [1.000000e+00, 6.900000e+01, 9.300000e+00, 6.417000e+02],\n",
       "       [1.000000e+00, 3.150000e+01, 2.460000e+01, 7.749000e+02],\n",
       "       [1.000000e+00, 1.393000e+02, 1.450000e+01, 2.019850e+03],\n",
       "       [1.000000e+00, 2.374000e+02, 2.750000e+01, 6.528500e+03],\n",
       "       [1.000000e+00, 2.168000e+02, 4.390000e+01, 9.517520e+03],\n",
       "       [1.000000e+00, 1.991000e+02, 3.060000e+01, 6.092460e+03],\n",
       "       [1.000000e+00, 1.098000e+02, 1.430000e+01, 1.570140e+03],\n",
       "       [1.000000e+00, 2.680000e+01, 3.300000e+01, 8.844000e+02],\n",
       "       [1.000000e+00, 1.294000e+02, 5.700000e+00, 7.375800e+02],\n",
       "       [1.000000e+00, 2.134000e+02, 2.460000e+01, 5.249640e+03],\n",
       "       [1.000000e+00, 1.690000e+01, 4.370000e+01, 7.385300e+02],\n",
       "       [1.000000e+00, 2.750000e+01, 1.600000e+00, 4.400000e+01],\n",
       "       [1.000000e+00, 1.205000e+02, 2.850000e+01, 3.434250e+03],\n",
       "       [1.000000e+00, 5.400000e+00, 2.990000e+01, 1.614600e+02],\n",
       "       [1.000000e+00, 1.160000e+02, 7.700000e+00, 8.932000e+02],\n",
       "       [1.000000e+00, 7.640000e+01, 2.670000e+01, 2.039880e+03],\n",
       "       [1.000000e+00, 2.398000e+02, 4.100000e+00, 9.831800e+02],\n",
       "       [1.000000e+00, 7.530000e+01, 2.030000e+01, 1.528590e+03],\n",
       "       [1.000000e+00, 6.840000e+01, 4.450000e+01, 3.043800e+03],\n",
       "       [1.000000e+00, 2.135000e+02, 4.300000e+01, 9.180500e+03],\n",
       "       [1.000000e+00, 1.932000e+02, 1.840000e+01, 3.554880e+03],\n",
       "       [1.000000e+00, 7.630000e+01, 2.750000e+01, 2.098250e+03],\n",
       "       [1.000000e+00, 1.107000e+02, 4.060000e+01, 4.494420e+03],\n",
       "       [1.000000e+00, 8.830000e+01, 2.550000e+01, 2.251650e+03],\n",
       "       [1.000000e+00, 1.098000e+02, 4.780000e+01, 5.248440e+03],\n",
       "       [1.000000e+00, 1.343000e+02, 4.900000e+00, 6.580700e+02],\n",
       "       [1.000000e+00, 2.860000e+01, 1.500000e+00, 4.290000e+01],\n",
       "       [1.000000e+00, 2.177000e+02, 3.350000e+01, 7.292950e+03],\n",
       "       [1.000000e+00, 2.509000e+02, 3.650000e+01, 9.157850e+03],\n",
       "       [1.000000e+00, 1.074000e+02, 1.400000e+01, 1.503600e+03],\n",
       "       [1.000000e+00, 1.633000e+02, 3.160000e+01, 5.160280e+03],\n",
       "       [1.000000e+00, 1.976000e+02, 3.500000e+00, 6.916000e+02],\n",
       "       [1.000000e+00, 1.849000e+02, 2.100000e+01, 3.882900e+03],\n",
       "       [1.000000e+00, 2.897000e+02, 4.230000e+01, 1.225431e+04],\n",
       "       [1.000000e+00, 1.352000e+02, 4.170000e+01, 5.637840e+03],\n",
       "       [1.000000e+00, 2.224000e+02, 4.300000e+00, 9.563200e+02],\n",
       "       [1.000000e+00, 2.964000e+02, 3.630000e+01, 1.075932e+04],\n",
       "       [1.000000e+00, 2.802000e+02, 1.010000e+01, 2.830020e+03],\n",
       "       [1.000000e+00, 1.879000e+02, 1.720000e+01, 3.231880e+03],\n",
       "       [1.000000e+00, 2.382000e+02, 3.430000e+01, 8.170260e+03],\n",
       "       [1.000000e+00, 1.379000e+02, 4.640000e+01, 6.398560e+03],\n",
       "       [1.000000e+00, 2.500000e+01, 1.100000e+01, 2.750000e+02],\n",
       "       [1.000000e+00, 9.040000e+01, 3.000000e-01, 2.712000e+01],\n",
       "       [1.000000e+00, 1.310000e+01, 4.000000e-01, 5.240000e+00],\n",
       "       [1.000000e+00, 2.554000e+02, 2.690000e+01, 6.870260e+03],\n",
       "       [1.000000e+00, 2.258000e+02, 8.200000e+00, 1.851560e+03],\n",
       "       [1.000000e+00, 2.417000e+02, 3.800000e+01, 9.184600e+03],\n",
       "       [1.000000e+00, 1.757000e+02, 1.540000e+01, 2.705780e+03],\n",
       "       [1.000000e+00, 2.096000e+02, 2.060000e+01, 4.317760e+03],\n",
       "       [1.000000e+00, 7.820000e+01, 4.680000e+01, 3.659760e+03],\n",
       "       [1.000000e+00, 7.510000e+01, 3.500000e+01, 2.628500e+03],\n",
       "       [1.000000e+00, 1.392000e+02, 1.430000e+01, 1.990560e+03],\n",
       "       [1.000000e+00, 7.640000e+01, 8.000000e-01, 6.112000e+01],\n",
       "       [1.000000e+00, 1.257000e+02, 3.690000e+01, 4.638330e+03],\n",
       "       [1.000000e+00, 1.940000e+01, 1.600000e+01, 3.104000e+02],\n",
       "       [1.000000e+00, 1.413000e+02, 2.680000e+01, 3.786840e+03],\n",
       "       [1.000000e+00, 1.880000e+01, 2.170000e+01, 4.079600e+02],\n",
       "       [1.000000e+00, 2.240000e+02, 2.400000e+00, 5.376000e+02],\n",
       "       [1.000000e+00, 1.231000e+02, 3.460000e+01, 4.259260e+03],\n",
       "       [1.000000e+00, 2.295000e+02, 3.230000e+01, 7.412850e+03],\n",
       "       [1.000000e+00, 8.720000e+01, 1.180000e+01, 1.028960e+03],\n",
       "       [1.000000e+00, 7.800000e+00, 3.890000e+01, 3.034200e+02],\n",
       "       [1.000000e+00, 8.020000e+01, 0.000000e+00, 0.000000e+00],\n",
       "       [1.000000e+00, 2.203000e+02, 4.900000e+01, 1.079470e+04],\n",
       "       [1.000000e+00, 5.960000e+01, 1.200000e+01, 7.152000e+02],\n",
       "       [1.000000e+00, 7.000000e-01, 3.960000e+01, 2.772000e+01],\n",
       "       [1.000000e+00, 2.652000e+02, 2.900000e+00, 7.690800e+02],\n",
       "       [1.000000e+00, 8.400000e+00, 2.720000e+01, 2.284800e+02],\n",
       "       [1.000000e+00, 2.198000e+02, 3.350000e+01, 7.363300e+03],\n",
       "       [1.000000e+00, 3.690000e+01, 3.860000e+01, 1.424340e+03],\n",
       "       [1.000000e+00, 4.830000e+01, 4.700000e+01, 2.270100e+03],\n",
       "       [1.000000e+00, 2.560000e+01, 3.900000e+01, 9.984000e+02],\n",
       "       [1.000000e+00, 2.737000e+02, 2.890000e+01, 7.909930e+03],\n",
       "       [1.000000e+00, 4.300000e+01, 2.590000e+01, 1.113700e+03],\n",
       "       [1.000000e+00, 1.849000e+02, 4.390000e+01, 8.117110e+03],\n",
       "       [1.000000e+00, 7.340000e+01, 1.700000e+01, 1.247800e+03],\n",
       "       [1.000000e+00, 1.937000e+02, 3.540000e+01, 6.856980e+03],\n",
       "       [1.000000e+00, 2.205000e+02, 3.320000e+01, 7.320600e+03],\n",
       "       [1.000000e+00, 1.046000e+02, 5.700000e+00, 5.962200e+02],\n",
       "       [1.000000e+00, 9.620000e+01, 1.480000e+01, 1.423760e+03],\n",
       "       [1.000000e+00, 1.403000e+02, 1.900000e+00, 2.665700e+02],\n",
       "       [1.000000e+00, 2.401000e+02, 7.300000e+00, 1.752730e+03],\n",
       "       [1.000000e+00, 2.432000e+02, 4.900000e+01, 1.191680e+04],\n",
       "       [1.000000e+00, 3.800000e+01, 4.030000e+01, 1.531400e+03],\n",
       "       [1.000000e+00, 4.470000e+01, 2.580000e+01, 1.153260e+03],\n",
       "       [1.000000e+00, 2.807000e+02, 1.390000e+01, 3.901730e+03],\n",
       "       [1.000000e+00, 1.210000e+02, 8.400000e+00, 1.016400e+03],\n",
       "       [1.000000e+00, 1.976000e+02, 2.330000e+01, 4.604080e+03],\n",
       "       [1.000000e+00, 1.713000e+02, 3.970000e+01, 6.800610e+03],\n",
       "       [1.000000e+00, 1.878000e+02, 2.110000e+01, 3.962580e+03],\n",
       "       [1.000000e+00, 4.100000e+00, 1.160000e+01, 4.756000e+01],\n",
       "       [1.000000e+00, 9.390000e+01, 4.350000e+01, 4.084650e+03],\n",
       "       [1.000000e+00, 1.498000e+02, 1.300000e+00, 1.947400e+02],\n",
       "       [1.000000e+00, 1.170000e+01, 3.690000e+01, 4.317300e+02],\n",
       "       [1.000000e+00, 1.317000e+02, 1.840000e+01, 2.423280e+03],\n",
       "       [1.000000e+00, 1.725000e+02, 1.810000e+01, 3.122250e+03],\n",
       "       [1.000000e+00, 8.570000e+01, 3.580000e+01, 3.068060e+03],\n",
       "       [1.000000e+00, 1.884000e+02, 1.810000e+01, 3.410040e+03],\n",
       "       [1.000000e+00, 1.635000e+02, 3.680000e+01, 6.016800e+03],\n",
       "       [1.000000e+00, 1.172000e+02, 1.470000e+01, 1.722840e+03],\n",
       "       [1.000000e+00, 2.345000e+02, 3.400000e+00, 7.973000e+02],\n",
       "       [1.000000e+00, 1.790000e+01, 3.760000e+01, 6.730400e+02],\n",
       "       [1.000000e+00, 2.068000e+02, 5.200000e+00, 1.075360e+03],\n",
       "       [1.000000e+00, 2.154000e+02, 2.360000e+01, 5.083440e+03],\n",
       "       [1.000000e+00, 2.843000e+02, 1.060000e+01, 3.013580e+03],\n",
       "       [1.000000e+00, 5.000000e+01, 1.160000e+01, 5.800000e+02],\n",
       "       [1.000000e+00, 1.645000e+02, 2.090000e+01, 3.438050e+03],\n",
       "       [1.000000e+00, 1.960000e+01, 2.010000e+01, 3.939600e+02],\n",
       "       [1.000000e+00, 1.684000e+02, 7.100000e+00, 1.195640e+03],\n",
       "       [1.000000e+00, 2.224000e+02, 3.400000e+00, 7.561600e+02],\n",
       "       [1.000000e+00, 2.769000e+02, 4.890000e+01, 1.354041e+04],\n",
       "       [1.000000e+00, 2.484000e+02, 3.020000e+01, 7.501680e+03],\n",
       "       [1.000000e+00, 1.702000e+02, 7.800000e+00, 1.327560e+03],\n",
       "       [1.000000e+00, 2.767000e+02, 2.300000e+00, 6.364100e+02],\n",
       "       [1.000000e+00, 1.656000e+02, 1.000000e+01, 1.656000e+03],\n",
       "       [1.000000e+00, 1.566000e+02, 2.600000e+00, 4.071600e+02],\n",
       "       [1.000000e+00, 2.185000e+02, 5.400000e+00, 1.179900e+03],\n",
       "       [1.000000e+00, 5.620000e+01, 5.700000e+00, 3.203400e+02],\n",
       "       [1.000000e+00, 2.876000e+02, 4.300000e+01, 1.236680e+04],\n",
       "       [1.000000e+00, 2.538000e+02, 2.130000e+01, 5.405940e+03],\n",
       "       [1.000000e+00, 2.050000e+02, 4.510000e+01, 9.245500e+03],\n",
       "       [1.000000e+00, 1.395000e+02, 2.100000e+00, 2.929500e+02],\n",
       "       [1.000000e+00, 1.911000e+02, 2.870000e+01, 5.484570e+03],\n",
       "       [1.000000e+00, 2.860000e+02, 1.390000e+01, 3.975400e+03],\n",
       "       [1.000000e+00, 1.870000e+01, 1.210000e+01, 2.262700e+02],\n",
       "       [1.000000e+00, 3.950000e+01, 4.110000e+01, 1.623450e+03],\n",
       "       [1.000000e+00, 7.550000e+01, 1.080000e+01, 8.154000e+02],\n",
       "       [1.000000e+00, 1.720000e+01, 4.100000e+00, 7.052000e+01],\n",
       "       [1.000000e+00, 1.668000e+02, 4.200000e+01, 7.005600e+03],\n",
       "       [1.000000e+00, 1.497000e+02, 3.560000e+01, 5.329320e+03],\n",
       "       [1.000000e+00, 3.820000e+01, 3.700000e+00, 1.413400e+02],\n",
       "       [1.000000e+00, 9.420000e+01, 4.900000e+00, 4.615800e+02],\n",
       "       [1.000000e+00, 1.770000e+02, 9.300000e+00, 1.646100e+03],\n",
       "       [1.000000e+00, 2.836000e+02, 4.200000e+01, 1.191120e+04],\n",
       "       [1.000000e+00, 2.321000e+02, 8.600000e+00, 1.996060e+03]])"
      ]
     },
     "execution_count": 3,
     "metadata": {},
     "output_type": "execute_result"
    }
   ],
   "source": [
    "import numpy as np\n",
    "test_df=pd.DataFrame(adv[:10])\n",
    "train_df=pd.DataFrame(adv[10:160])\n",
    "val_df=pd.DataFrame(adv[160:])\n",
    "\n",
    "\n",
    "X_test = np.column_stack([np.ones(10), test_df['TV'], test_df['radio'], test_df['TV']*test_df['radio']])\n",
    "Y_test = test_df['sales']\n",
    "\n",
    "X_train = np.column_stack([np.ones(150), train_df['TV'], train_df['radio'], train_df['TV']*train_df['radio']])\n",
    "Y_train = train_df['sales']\n",
    "\n",
    "X_val = np.column_stack([np.ones(40), val_df['TV'], val_df['radio'], val_df['TV']*val_df['radio']])\n",
    "Y_val = val_df['sales']\n",
    "\n",
    "Y = adv['sales']        #responsvektor\n",
    "X = np.column_stack([np.ones(Y.shape[0]), adv['TV'], adv['radio'], adv['TV']*adv['radio']])    #designmatris\n",
    "X"
   ]
  },
  {
   "cell_type": "markdown",
   "metadata": {},
   "source": [
    "\\begin{equation*}\n",
    "\n",
    "\\hat{\\beta}= (X^TX)^{-1}X^TY\n",
    "\n",
    "\\end{equation*}\n"
   ]
  },
  {
   "cell_type": "code",
   "execution_count": 4,
   "metadata": {},
   "outputs": [
    {
     "ename": "NameError",
     "evalue": "name 'SSR_2' is not defined",
     "output_type": "error",
     "traceback": [
      "\u001b[1;31m---------------------------------------------------------------------------\u001b[0m",
      "\u001b[1;31mNameError\u001b[0m                                 Traceback (most recent call last)",
      "Cell \u001b[1;32mIn[4], line 16\u001b[0m\n\u001b[0;32m     12\u001b[0m SSR \u001b[38;5;241m=\u001b[39m Syy \u001b[38;5;241m-\u001b[39m SSE\n\u001b[0;32m     13\u001b[0m \u001b[38;5;66;03m# SSR_2=np.sum(b*(X.T @ Y)) - (np.square(np.sum(Y))/n)  #alternativt sätt att räkna ut\u001b[39;00m\n\u001b[0;32m     14\u001b[0m \u001b[38;5;66;03m# SSE = Syy - SSR\u001b[39;00m\n\u001b[1;32m---> 16\u001b[0m SSR, \u001b[43mSSR_2\u001b[49m\n",
      "\u001b[1;31mNameError\u001b[0m: name 'SSR_2' is not defined"
     ]
    }
   ],
   "source": [
    "b = np.linalg.pinv(X_train.T @ X_train)@ X_train.T @ Y_train\n",
    "k = len(b)-1   #dimension, alltså antal x, alltså 3\n",
    "n = Y_train.shape[0]\n",
    "SSE = np.sum(np.square(Y_val - (X_val @ b)))\n",
    "\n",
    "var = SSE/(n-k-1)\n",
    "S = np.sqrt(var)\n",
    "\n",
    "\n",
    "Syy = (n*np.sum(np.square(Y_val)) - np.square(np.sum(Y_val)))/n         # först tog vi train, sedan val. kolla film 11:20.\n",
    "\n",
    "SSR = Syy - SSE\n",
    "# SSR_2=np.sum(b*(X.T @ Y)) - (np.square(np.sum(Y))/n)  #alternativt sätt att räkna ut\n",
    "# SSE = Syy - SSR\n",
    "\n",
    "SSR, SSR_2"
   ]
  },
  {
   "cell_type": "code",
   "execution_count": 13,
   "metadata": {},
   "outputs": [
    {
     "data": {
      "text/plain": [
       "<matplotlib.collections.PathCollection at 0x25a7f91e960>"
      ]
     },
     "execution_count": 13,
     "metadata": {},
     "output_type": "execute_result"
    },
    {
     "data": {
      "image/png": "[encoded data removed]",
      "text/plain": [
       "<Figure size 640x480 with 1 Axes>"
      ]
     },
     "metadata": {},
     "output_type": "display_data"
    }
   ],
   "source": [
    "import matplotlib.pyplot as plt\n",
    "\n",
    "plt.scatter(Y_val, X_val @ b)\n"
   ]
  },
  {
   "cell_type": "code",
   "execution_count": 7,
   "metadata": {},
   "outputs": [
    {
     "data": {
      "text/plain": [
       "array([6.75022020e+00, 1.91010738e-02, 2.88603399e-02, 1.08649470e-03])"
      ]
     },
     "execution_count": 7,
     "metadata": {},
     "output_type": "execute_result"
    }
   ],
   "source": [
    "b\n"
   ]
  },
  {
   "cell_type": "code",
   "execution_count": 15,
   "metadata": {},
   "outputs": [
    {
     "data": {
      "text/plain": [
       "0.9977033993820477"
      ]
     },
     "execution_count": 15,
     "metadata": {},
     "output_type": "execute_result"
    }
   ],
   "source": [
    "Rsq = SSR/Syy\n",
    "Rsq\n",
    "\n",
    "# Apparently we can choose 90% as confidence level (konfidensgrad)"
   ]
  },
  {
   "cell_type": "code",
   "execution_count": 9,
   "metadata": {},
   "outputs": [
    {
     "data": {
      "text/plain": [
       "(1.6491013672111885e-143, 1852.17442461406)"
      ]
     },
     "execution_count": 9,
     "metadata": {},
     "output_type": "execute_result"
    }
   ],
   "source": [
    "# signifikanstest:\n",
    "import scipy.stats as stats\n",
    "\n",
    "# H0: all β = 0\n",
    "sig_statistic = (SSR/k)/S\n",
    "p_significance = stats.f.sf(sig_statistic, k, n-k-1)    # se labbinstruktion\n",
    "p_significance, sig_statistic\n",
    "\n",
    "# we reject the null-hypothesis, regression IS significant!\n"
   ]
  },
  {
   "cell_type": "code",
   "execution_count": 25,
   "metadata": {},
   "outputs": [
    {
     "data": {
      "text/plain": [
       "0.9166073083091348"
      ]
     },
     "execution_count": 25,
     "metadata": {},
     "output_type": "execute_result"
    }
   ],
   "source": [
    "# Variance/Co-variance matrix\n",
    "\n",
    "c = np.linalg.pinv(X_train.T @ X_train)*var\n",
    "\n",
    "# H0: b3 is irrelevant\n",
    "\n",
    "b3_statistic = b[3] / (S*np.sqrt(c[3,3]))           # testa att ändra 3,3 till 2,2 eller 1,1 för att kolla TV eller Radio\n",
    "\n",
    "p_b3 = 2*min(stats.t.cdf(b3_statistic, n-k-1), stats.t.sf(b3_statistic, n-k-1))\n",
    "            # kolla labbhandledning\n",
    "p_b3    # högt värde, b3 är troligen irrelevant"
   ]
  },
  {
   "cell_type": "code",
   "execution_count": null,
   "metadata": {},
   "outputs": [],
   "source": [
    "Y = adv['sales']        #responsvektor\n",
    "X = np.column_stack([np.ones(Y.shape[0]), adv['TV'], adv['radio'], adv['newspaper']])    #designmatris\n",
    "X\n",
    "\n",
    "# gör om allt från början, utan newspaper!"
   ]
  },
  {
   "cell_type": "code",
   "execution_count": 6,
   "metadata": {},
   "outputs": [
    {
     "data": {
      "text/plain": [
       "0.3224165895994731"
      ]
     },
     "execution_count": 6,
     "metadata": {},
     "output_type": "execute_result"
    }
   ],
   "source": [
    "RSE=np.sqrt((1/(n-2))*SSE)\n",
    "RSE"
   ]
  },
  {
   "cell_type": "markdown",
   "metadata": {},
   "source": [
    "Alltså ett intervall som är 322 TV-apparater (?) brett. "
   ]
  },
  {
   "cell_type": "code",
   "execution_count": 7,
   "metadata": {},
   "outputs": [
    {
     "data": {
      "text/plain": [
       "(0.3224165895994731, 0.27241384574815214)"
      ]
     },
     "execution_count": 7,
     "metadata": {},
     "output_type": "execute_result"
    }
   ],
   "source": [
    "SSE_test = np.sum(np.square(Y_test - (X_test @ b)))\n",
    "RSE_test = np.sqrt((1/(n-2))*SSE_test)\n",
    "RSE, RSE_test"
   ]
  }
 ],
 "metadata": {
  "kernelspec": {
   "display_name": ".venv",
   "language": "python",
   "name": "python3"
  },
  "language_info": {
   "codemirror_mode": {
    "name": "ipython",
    "version": 3
   },
   "file_extension": ".py",
   "mimetype": "text/x-python",
   "name": "python",
   "nbconvert_exporter": "python",
   "pygments_lexer": "ipython3",
   "version": "3.12.5"
  }
 },
 "nbformat": 4,
 "nbformat_minor": 2
}
