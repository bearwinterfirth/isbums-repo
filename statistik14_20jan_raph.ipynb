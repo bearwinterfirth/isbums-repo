{
 "cells": [
  {
   "cell_type": "code",
   "execution_count": 1,
   "metadata": {},
   "outputs": [
    {
     "data": {
      "text/html": [
       "<div>\n",
       "<style scoped>\n",
       "    .dataframe tbody tr th:only-of-type {\n",
       "        vertical-align: middle;\n",
       "    }\n",
       "\n",
       "    .dataframe tbody tr th {\n",
       "        vertical-align: top;\n",
       "    }\n",
       "\n",
       "    .dataframe thead th {\n",
       "        text-align: right;\n",
       "    }\n",
       "</style>\n",
       "<table border=\"1\" class=\"dataframe\">\n",
       "  <thead>\n",
       "    <tr style=\"text-align: right;\">\n",
       "      <th></th>\n",
       "      <th>TV</th>\n",
       "      <th>radio</th>\n",
       "      <th>newspaper</th>\n",
       "      <th>sales</th>\n",
       "    </tr>\n",
       "  </thead>\n",
       "  <tbody>\n",
       "    <tr>\n",
       "      <th>1</th>\n",
       "      <td>230.1</td>\n",
       "      <td>37.8</td>\n",
       "      <td>69.2</td>\n",
       "      <td>22.1</td>\n",
       "    </tr>\n",
       "    <tr>\n",
       "      <th>2</th>\n",
       "      <td>44.5</td>\n",
       "      <td>39.3</td>\n",
       "      <td>45.1</td>\n",
       "      <td>10.4</td>\n",
       "    </tr>\n",
       "    <tr>\n",
       "      <th>3</th>\n",
       "      <td>17.2</td>\n",
       "      <td>45.9</td>\n",
       "      <td>69.3</td>\n",
       "      <td>9.3</td>\n",
       "    </tr>\n",
       "    <tr>\n",
       "      <th>4</th>\n",
       "      <td>151.5</td>\n",
       "      <td>41.3</td>\n",
       "      <td>58.5</td>\n",
       "      <td>18.5</td>\n",
       "    </tr>\n",
       "    <tr>\n",
       "      <th>5</th>\n",
       "      <td>180.8</td>\n",
       "      <td>10.8</td>\n",
       "      <td>58.4</td>\n",
       "      <td>12.9</td>\n",
       "    </tr>\n",
       "  </tbody>\n",
       "</table>\n",
       "</div>"
      ],
      "text/plain": [
       "      TV  radio  newspaper  sales\n",
       "1  230.1   37.8       69.2   22.1\n",
       "2   44.5   39.3       45.1   10.4\n",
       "3   17.2   45.9       69.3    9.3\n",
       "4  151.5   41.3       58.5   18.5\n",
       "5  180.8   10.8       58.4   12.9"
      ]
     },
     "execution_count": 1,
     "metadata": {},
     "output_type": "execute_result"
    }
   ],
   "source": [
    "import pandas as pd\n",
    "\n",
    "data_path = \"\"\n",
    "\n",
    "adv = pd.read_csv(data_path+\"Advertising.csv\", index_col=0)\n",
    "adv.head()\n"
   ]
  },
  {
   "cell_type": "code",
   "execution_count": 2,
   "metadata": {},
   "outputs": [
    {
     "data": {
      "text/plain": [
       "array([[  1. , 230.1,  37.8,  69.2],\n",
       "       [  1. ,  44.5,  39.3,  45.1],\n",
       "       [  1. ,  17.2,  45.9,  69.3],\n",
       "       [  1. , 151.5,  41.3,  58.5],\n",
       "       [  1. , 180.8,  10.8,  58.4],\n",
       "       [  1. ,   8.7,  48.9,  75. ],\n",
       "       [  1. ,  57.5,  32.8,  23.5],\n",
       "       [  1. , 120.2,  19.6,  11.6],\n",
       "       [  1. ,   8.6,   2.1,   1. ],\n",
       "       [  1. , 199.8,   2.6,  21.2],\n",
       "       [  1. ,  66.1,   5.8,  24.2],\n",
       "       [  1. , 214.7,  24. ,   4. ],\n",
       "       [  1. ,  23.8,  35.1,  65.9],\n",
       "       [  1. ,  97.5,   7.6,   7.2],\n",
       "       [  1. , 204.1,  32.9,  46. ],\n",
       "       [  1. , 195.4,  47.7,  52.9],\n",
       "       [  1. ,  67.8,  36.6, 114. ],\n",
       "       [  1. , 281.4,  39.6,  55.8],\n",
       "       [  1. ,  69.2,  20.5,  18.3],\n",
       "       [  1. , 147.3,  23.9,  19.1],\n",
       "       [  1. , 218.4,  27.7,  53.4],\n",
       "       [  1. , 237.4,   5.1,  23.5],\n",
       "       [  1. ,  13.2,  15.9,  49.6],\n",
       "       [  1. , 228.3,  16.9,  26.2],\n",
       "       [  1. ,  62.3,  12.6,  18.3],\n",
       "       [  1. , 262.9,   3.5,  19.5],\n",
       "       [  1. , 142.9,  29.3,  12.6],\n",
       "       [  1. , 240.1,  16.7,  22.9],\n",
       "       [  1. , 248.8,  27.1,  22.9],\n",
       "       [  1. ,  70.6,  16. ,  40.8],\n",
       "       [  1. , 292.9,  28.3,  43.2],\n",
       "       [  1. , 112.9,  17.4,  38.6],\n",
       "       [  1. ,  97.2,   1.5,  30. ],\n",
       "       [  1. , 265.6,  20. ,   0.3],\n",
       "       [  1. ,  95.7,   1.4,   7.4],\n",
       "       [  1. , 290.7,   4.1,   8.5],\n",
       "       [  1. , 266.9,  43.8,   5. ],\n",
       "       [  1. ,  74.7,  49.4,  45.7],\n",
       "       [  1. ,  43.1,  26.7,  35.1],\n",
       "       [  1. , 228. ,  37.7,  32. ],\n",
       "       [  1. , 202.5,  22.3,  31.6],\n",
       "       [  1. , 177. ,  33.4,  38.7],\n",
       "       [  1. , 293.6,  27.7,   1.8],\n",
       "       [  1. , 206.9,   8.4,  26.4],\n",
       "       [  1. ,  25.1,  25.7,  43.3],\n",
       "       [  1. , 175.1,  22.5,  31.5],\n",
       "       [  1. ,  89.7,   9.9,  35.7],\n",
       "       [  1. , 239.9,  41.5,  18.5],\n",
       "       [  1. , 227.2,  15.8,  49.9],\n",
       "       [  1. ,  66.9,  11.7,  36.8],\n",
       "       [  1. , 199.8,   3.1,  34.6],\n",
       "       [  1. , 100.4,   9.6,   3.6],\n",
       "       [  1. , 216.4,  41.7,  39.6],\n",
       "       [  1. , 182.6,  46.2,  58.7],\n",
       "       [  1. , 262.7,  28.8,  15.9],\n",
       "       [  1. , 198.9,  49.4,  60. ],\n",
       "       [  1. ,   7.3,  28.1,  41.4],\n",
       "       [  1. , 136.2,  19.2,  16.6],\n",
       "       [  1. , 210.8,  49.6,  37.7],\n",
       "       [  1. , 210.7,  29.5,   9.3],\n",
       "       [  1. ,  53.5,   2. ,  21.4],\n",
       "       [  1. , 261.3,  42.7,  54.7],\n",
       "       [  1. , 239.3,  15.5,  27.3],\n",
       "       [  1. , 102.7,  29.6,   8.4],\n",
       "       [  1. , 131.1,  42.8,  28.9],\n",
       "       [  1. ,  69. ,   9.3,   0.9],\n",
       "       [  1. ,  31.5,  24.6,   2.2],\n",
       "       [  1. , 139.3,  14.5,  10.2],\n",
       "       [  1. , 237.4,  27.5,  11. ],\n",
       "       [  1. , 216.8,  43.9,  27.2],\n",
       "       [  1. , 199.1,  30.6,  38.7],\n",
       "       [  1. , 109.8,  14.3,  31.7],\n",
       "       [  1. ,  26.8,  33. ,  19.3],\n",
       "       [  1. , 129.4,   5.7,  31.3],\n",
       "       [  1. , 213.4,  24.6,  13.1],\n",
       "       [  1. ,  16.9,  43.7,  89.4],\n",
       "       [  1. ,  27.5,   1.6,  20.7],\n",
       "       [  1. , 120.5,  28.5,  14.2],\n",
       "       [  1. ,   5.4,  29.9,   9.4],\n",
       "       [  1. , 116. ,   7.7,  23.1],\n",
       "       [  1. ,  76.4,  26.7,  22.3],\n",
       "       [  1. , 239.8,   4.1,  36.9],\n",
       "       [  1. ,  75.3,  20.3,  32.5],\n",
       "       [  1. ,  68.4,  44.5,  35.6],\n",
       "       [  1. , 213.5,  43. ,  33.8],\n",
       "       [  1. , 193.2,  18.4,  65.7],\n",
       "       [  1. ,  76.3,  27.5,  16. ],\n",
       "       [  1. , 110.7,  40.6,  63.2],\n",
       "       [  1. ,  88.3,  25.5,  73.4],\n",
       "       [  1. , 109.8,  47.8,  51.4],\n",
       "       [  1. , 134.3,   4.9,   9.3],\n",
       "       [  1. ,  28.6,   1.5,  33. ],\n",
       "       [  1. , 217.7,  33.5,  59. ],\n",
       "       [  1. , 250.9,  36.5,  72.3],\n",
       "       [  1. , 107.4,  14. ,  10.9],\n",
       "       [  1. , 163.3,  31.6,  52.9],\n",
       "       [  1. , 197.6,   3.5,   5.9],\n",
       "       [  1. , 184.9,  21. ,  22. ],\n",
       "       [  1. , 289.7,  42.3,  51.2],\n",
       "       [  1. , 135.2,  41.7,  45.9],\n",
       "       [  1. , 222.4,   4.3,  49.8],\n",
       "       [  1. , 296.4,  36.3, 100.9],\n",
       "       [  1. , 280.2,  10.1,  21.4],\n",
       "       [  1. , 187.9,  17.2,  17.9],\n",
       "       [  1. , 238.2,  34.3,   5.3],\n",
       "       [  1. , 137.9,  46.4,  59. ],\n",
       "       [  1. ,  25. ,  11. ,  29.7],\n",
       "       [  1. ,  90.4,   0.3,  23.2],\n",
       "       [  1. ,  13.1,   0.4,  25.6],\n",
       "       [  1. , 255.4,  26.9,   5.5],\n",
       "       [  1. , 225.8,   8.2,  56.5],\n",
       "       [  1. , 241.7,  38. ,  23.2],\n",
       "       [  1. , 175.7,  15.4,   2.4],\n",
       "       [  1. , 209.6,  20.6,  10.7],\n",
       "       [  1. ,  78.2,  46.8,  34.5],\n",
       "       [  1. ,  75.1,  35. ,  52.7],\n",
       "       [  1. , 139.2,  14.3,  25.6],\n",
       "       [  1. ,  76.4,   0.8,  14.8],\n",
       "       [  1. , 125.7,  36.9,  79.2],\n",
       "       [  1. ,  19.4,  16. ,  22.3],\n",
       "       [  1. , 141.3,  26.8,  46.2],\n",
       "       [  1. ,  18.8,  21.7,  50.4],\n",
       "       [  1. , 224. ,   2.4,  15.6],\n",
       "       [  1. , 123.1,  34.6,  12.4],\n",
       "       [  1. , 229.5,  32.3,  74.2],\n",
       "       [  1. ,  87.2,  11.8,  25.9],\n",
       "       [  1. ,   7.8,  38.9,  50.6],\n",
       "       [  1. ,  80.2,   0. ,   9.2],\n",
       "       [  1. , 220.3,  49. ,   3.2],\n",
       "       [  1. ,  59.6,  12. ,  43.1],\n",
       "       [  1. ,   0.7,  39.6,   8.7],\n",
       "       [  1. , 265.2,   2.9,  43. ],\n",
       "       [  1. ,   8.4,  27.2,   2.1],\n",
       "       [  1. , 219.8,  33.5,  45.1],\n",
       "       [  1. ,  36.9,  38.6,  65.6],\n",
       "       [  1. ,  48.3,  47. ,   8.5],\n",
       "       [  1. ,  25.6,  39. ,   9.3],\n",
       "       [  1. , 273.7,  28.9,  59.7],\n",
       "       [  1. ,  43. ,  25.9,  20.5],\n",
       "       [  1. , 184.9,  43.9,   1.7],\n",
       "       [  1. ,  73.4,  17. ,  12.9],\n",
       "       [  1. , 193.7,  35.4,  75.6],\n",
       "       [  1. , 220.5,  33.2,  37.9],\n",
       "       [  1. , 104.6,   5.7,  34.4],\n",
       "       [  1. ,  96.2,  14.8,  38.9],\n",
       "       [  1. , 140.3,   1.9,   9. ],\n",
       "       [  1. , 240.1,   7.3,   8.7],\n",
       "       [  1. , 243.2,  49. ,  44.3],\n",
       "       [  1. ,  38. ,  40.3,  11.9],\n",
       "       [  1. ,  44.7,  25.8,  20.6],\n",
       "       [  1. , 280.7,  13.9,  37. ],\n",
       "       [  1. , 121. ,   8.4,  48.7],\n",
       "       [  1. , 197.6,  23.3,  14.2],\n",
       "       [  1. , 171.3,  39.7,  37.7],\n",
       "       [  1. , 187.8,  21.1,   9.5],\n",
       "       [  1. ,   4.1,  11.6,   5.7],\n",
       "       [  1. ,  93.9,  43.5,  50.5],\n",
       "       [  1. , 149.8,   1.3,  24.3],\n",
       "       [  1. ,  11.7,  36.9,  45.2],\n",
       "       [  1. , 131.7,  18.4,  34.6],\n",
       "       [  1. , 172.5,  18.1,  30.7],\n",
       "       [  1. ,  85.7,  35.8,  49.3],\n",
       "       [  1. , 188.4,  18.1,  25.6],\n",
       "       [  1. , 163.5,  36.8,   7.4],\n",
       "       [  1. , 117.2,  14.7,   5.4],\n",
       "       [  1. , 234.5,   3.4,  84.8],\n",
       "       [  1. ,  17.9,  37.6,  21.6],\n",
       "       [  1. , 206.8,   5.2,  19.4],\n",
       "       [  1. , 215.4,  23.6,  57.6],\n",
       "       [  1. , 284.3,  10.6,   6.4],\n",
       "       [  1. ,  50. ,  11.6,  18.4],\n",
       "       [  1. , 164.5,  20.9,  47.4],\n",
       "       [  1. ,  19.6,  20.1,  17. ],\n",
       "       [  1. , 168.4,   7.1,  12.8],\n",
       "       [  1. , 222.4,   3.4,  13.1],\n",
       "       [  1. , 276.9,  48.9,  41.8],\n",
       "       [  1. , 248.4,  30.2,  20.3],\n",
       "       [  1. , 170.2,   7.8,  35.2],\n",
       "       [  1. , 276.7,   2.3,  23.7],\n",
       "       [  1. , 165.6,  10. ,  17.6],\n",
       "       [  1. , 156.6,   2.6,   8.3],\n",
       "       [  1. , 218.5,   5.4,  27.4],\n",
       "       [  1. ,  56.2,   5.7,  29.7],\n",
       "       [  1. , 287.6,  43. ,  71.8],\n",
       "       [  1. , 253.8,  21.3,  30. ],\n",
       "       [  1. , 205. ,  45.1,  19.6],\n",
       "       [  1. , 139.5,   2.1,  26.6],\n",
       "       [  1. , 191.1,  28.7,  18.2],\n",
       "       [  1. , 286. ,  13.9,   3.7],\n",
       "       [  1. ,  18.7,  12.1,  23.4],\n",
       "       [  1. ,  39.5,  41.1,   5.8],\n",
       "       [  1. ,  75.5,  10.8,   6. ],\n",
       "       [  1. ,  17.2,   4.1,  31.6],\n",
       "       [  1. , 166.8,  42. ,   3.6],\n",
       "       [  1. , 149.7,  35.6,   6. ],\n",
       "       [  1. ,  38.2,   3.7,  13.8],\n",
       "       [  1. ,  94.2,   4.9,   8.1],\n",
       "       [  1. , 177. ,   9.3,   6.4],\n",
       "       [  1. , 283.6,  42. ,  66.2],\n",
       "       [  1. , 232.1,   8.6,   8.7]])"
      ]
     },
     "execution_count": 2,
     "metadata": {},
     "output_type": "execute_result"
    }
   ],
   "source": [
    "import numpy as np\n",
    "Y = adv['sales']        #responsvektor\n",
    "X = np.column_stack([np.ones(Y.shape[0]), adv['TV'], adv['radio'], adv['newspaper']])    #designmatris\n",
    "X"
   ]
  },
  {
   "cell_type": "markdown",
   "metadata": {},
   "source": [
    "\\begin{equation*}\n",
    "\n",
    "\\hat{\\beta}= (X^TX)^{-1}X^TY\n",
    "\n",
    "\\end{equation*}\n"
   ]
  },
  {
   "cell_type": "code",
   "execution_count": 3,
   "metadata": {},
   "outputs": [
    {
     "data": {
      "text/plain": [
       "(4860.323487097813, 4860.323487097841)"
      ]
     },
     "execution_count": 3,
     "metadata": {},
     "output_type": "execute_result"
    }
   ],
   "source": [
    "b = np.linalg.pinv(X.T @ X)@ X.T @ Y\n",
    "k = len(b)-1   #dimension, alltså antal x, alltså 3\n",
    "n = Y.shape[0]\n",
    "SSE = np.sum(np.square(Y - (X @ b)))\n",
    "\n",
    "var = SSE/(n-k-1)\n",
    "S = np.sqrt(var)\n",
    "\n",
    "\n",
    "Syy = (n*np.sum(np.square(Y)) - np.square(np.sum(Y)))/n\n",
    "\n",
    "SSR = Syy - SSE\n",
    "SSR_2=np.sum(b*(X.T @ Y)) - (np.square(np.sum(Y))/n)  #alternativt sätt att räkna ut\n",
    "# SSE = Syy - SSR\n",
    "\n",
    "SSR, SSR_2"
   ]
  },
  {
   "cell_type": "code",
   "execution_count": 4,
   "metadata": {},
   "outputs": [
    {
     "data": {
      "text/plain": [
       "<matplotlib.collections.PathCollection at 0x1f4aba11eb0>"
      ]
     },
     "execution_count": 4,
     "metadata": {},
     "output_type": "execute_result"
    },
    {
     "data": {
      "image/png": "[encoded data removed]",
      "text/plain": [
       "<Figure size 640x480 with 1 Axes>"
      ]
     },
     "metadata": {},
     "output_type": "display_data"
    }
   ],
   "source": [
    "import matplotlib.pyplot as plt\n",
    "\n",
    "plt.scatter(Y, X @ b)\n"
   ]
  },
  {
   "cell_type": "code",
   "execution_count": 15,
   "metadata": {},
   "outputs": [
    {
     "data": {
      "text/plain": [
       "array([ 2.93888937e+00,  4.57646455e-02,  1.88530017e-01, -1.03749304e-03])"
      ]
     },
     "execution_count": 15,
     "metadata": {},
     "output_type": "execute_result"
    }
   ],
   "source": [
    "b\n"
   ]
  },
  {
   "cell_type": "code",
   "execution_count": 16,
   "metadata": {},
   "outputs": [
    {
     "data": {
      "text/plain": [
       "0.8972106381789521"
      ]
     },
     "execution_count": 16,
     "metadata": {},
     "output_type": "execute_result"
    }
   ],
   "source": [
    "Rsq = SSR/Syy\n",
    "Rsq\n",
    "\n",
    "# Apparently we can choose 90% as confidence level (konfidensgrad)"
   ]
  },
  {
   "cell_type": "code",
   "execution_count": 6,
   "metadata": {},
   "outputs": [
    {
     "data": {
      "text/plain": [
       "(6.373276981801425e-117, 961.1971866719289)"
      ]
     },
     "execution_count": 6,
     "metadata": {},
     "output_type": "execute_result"
    }
   ],
   "source": [
    "# signifikanstest:\n",
    "import scipy.stats as stats\n",
    "\n",
    "# H0: all β = 0\n",
    "sig_statistic = (SSR/k)/S\n",
    "p_significance = stats.f.sf(sig_statistic, k, n-k-1)    # se labbinstruktion\n",
    "p_significance, sig_statistic\n",
    "\n",
    "# we reject the null-hypothesis, regression IS significant!\n"
   ]
  },
  {
   "cell_type": "code",
   "execution_count": 25,
   "metadata": {},
   "outputs": [
    {
     "data": {
      "text/plain": [
       "0.9166073083091348"
      ]
     },
     "execution_count": 25,
     "metadata": {},
     "output_type": "execute_result"
    }
   ],
   "source": [
    "# Variance/Co-variance matrix\n",
    "\n",
    "c = np.linalg.pinv(X.T @ X)*var\n",
    "\n",
    "# H0: b3 is irrelevant\n",
    "\n",
    "b3_statistic = b[3] / (S*np.sqrt(c[3,3]))           # testa att ändra 3,3 till 2,2 eller 1,1 för att kolla TV eller Radio\n",
    "\n",
    "p_b3 = 2*min(stats.t.cdf(b3_statistic, n-k-1), stats.t.sf(b3_statistic, n-k-1))\n",
    "            # kolla labbhandledning\n",
    "p_b3    # högt värde, b3 är troligen irrelevant"
   ]
  },
  {
   "cell_type": "code",
   "execution_count": null,
   "metadata": {},
   "outputs": [],
   "source": [
    "Y = adv['sales']        #responsvektor\n",
    "X = np.column_stack([np.ones(Y.shape[0]), adv['TV'], adv['radio'], adv['newspaper']])    #designmatris\n",
    "X\n",
    "\n",
    "# gör om allt från början, utan newspaper!"
   ]
  }
 ],
 "metadata": {
  "kernelspec": {
   "display_name": ".venv",
   "language": "python",
   "name": "python3"
  },
  "language_info": {
   "codemirror_mode": {
    "name": "ipython",
    "version": 3
   },
   "file_extension": ".py",
   "mimetype": "text/x-python",
   "name": "python",
   "nbconvert_exporter": "python",
   "pygments_lexer": "ipython3",
   "version": "3.12.5"
  }
 },
 "nbformat": 4,
 "nbformat_minor": 2
}
